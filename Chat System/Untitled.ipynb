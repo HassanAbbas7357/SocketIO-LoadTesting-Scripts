{
 "cells": [
  {
   "cell_type": "code",
   "execution_count": 20,
   "id": "67340e75",
   "metadata": {},
   "outputs": [],
   "source": [
    "import requests\n",
    "import json\n",
    "from tqdm import tqdm\n",
    "url = \"https://svf913jun1.execute-api.us-east-1.amazonaws.com/dev/api/auth/login\"\n"
   ]
  },
  {
   "cell_type": "code",
   "execution_count": 5,
   "id": "9d28a5be",
   "metadata": {},
   "outputs": [],
   "source": [
    "with open(\"student.json\",'r') as f:\n",
    "    data = json.load(f)"
   ]
  },
  {
   "cell_type": "code",
   "execution_count": 18,
   "id": "e3d8752e",
   "metadata": {},
   "outputs": [],
   "source": [
    "def login(payload):\n",
    "    headers = {\n",
    "      'Content-Type': 'application/json'\n",
    "    }\n",
    "\n",
    "    response = requests.request(\"POST\", url, headers=headers, data=payload)\n",
    "\n",
    "    return response.json()\n"
   ]
  },
  {
   "cell_type": "code",
   "execution_count": null,
   "id": "b656845b",
   "metadata": {},
   "outputs": [
    {
     "name": "stderr",
     "output_type": "stream",
     "text": [
      "  5%|███▌                                                                       | 1706/36315 [27:16<9:31:14,  1.01it/s]"
     ]
    }
   ],
   "source": [
    "usersData = []\n",
    "for i in tqdm(data):\n",
    "    payload = json.dumps({\n",
    "      \"email\": i['email'],\n",
    "      \"password\": i['password']\n",
    "    })\n",
    "\n",
    "    res = login(payload)\n",
    "    if res['status_code'] == 200:\n",
    "        dic = {\n",
    "            \"email\": i['email'],\n",
    "            \"password\": i['password'],\n",
    "            \"access_token\":res['data']['user']['access_token']\n",
    "        }\n",
    "        usersData.append(dic)"
   ]
  },
  {
   "cell_type": "code",
   "execution_count": null,
   "id": "8df9cd7c",
   "metadata": {},
   "outputs": [],
   "source": []
  }
 ],
 "metadata": {
  "kernelspec": {
   "display_name": "Python 3 (ipykernel)",
   "language": "python",
   "name": "python3"
  },
  "language_info": {
   "codemirror_mode": {
    "name": "ipython",
    "version": 3
   },
   "file_extension": ".py",
   "mimetype": "text/x-python",
   "name": "python",
   "nbconvert_exporter": "python",
   "pygments_lexer": "ipython3",
   "version": "3.9.10"
  }
 },
 "nbformat": 4,
 "nbformat_minor": 5
}
